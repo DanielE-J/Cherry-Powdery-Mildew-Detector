{
 "cells": [
  {
   "cell_type": "markdown",
   "id": "c91044ed",
   "metadata": {},
   "source": [
    "# Modelling & Evaluating"
   ]
  },
  {
   "cell_type": "markdown",
   "id": "f87572d2",
   "metadata": {},
   "source": [
    "## Objectives"
   ]
  },
  {
   "cell_type": "markdown",
   "id": "9d2382ac",
   "metadata": {},
   "source": [
    "* Answer business requirement 2:\n",
    "    - The client is interested to tell wheterh a given leaf is covered with powdery mildew"
   ]
  },
  {
   "cell_type": "markdown",
   "id": "e35fcc6f",
   "metadata": {},
   "source": [
    "## Inputs"
   ]
  },
  {
   "cell_type": "markdown",
   "id": "d0801bf3",
   "metadata": {},
   "source": [
    "* Image shape embeddings (pickle file).\n",
    "\n",
    "* Images from the test, train, validation folders and their subfolders."
   ]
  },
  {
   "cell_type": "markdown",
   "id": "8059305a",
   "metadata": {},
   "source": [
    "    ├── inputs\n",
    "    │   └──cherryleaves_dataset \n",
    "    │      └──cherry-leaves\n",
    "    │           │\n",
    "    │           ├── test\n",
    "    │           │   ├── healthy\n",
    "    │           │   └── powdery_mildew\n",
    "    │           │\n",
    "    │           ├── train\n",
    "    │           │   ├── healthy\n",
    "    │           │   └── powdery_mildew\n",
    "    │           │\n",
    "    │           └── validation\n",
    "    │               ├── healthy\n",
    "    │               └── powdery_mildew\n",
    "    └──"
   ]
  },
  {
   "cell_type": "markdown",
   "id": "5f51063e",
   "metadata": {},
   "source": [
    "## Outputs"
   ]
  },
  {
   "cell_type": "markdown",
   "id": "c1faa17d",
   "metadata": {},
   "source": [
    "* Images distribution plot in train, validation, and test set.\n",
    "    - label distribution - bar chart.\n",
    "    - set distriburion - pie chart.\n",
    "\n",
    "* Image augmentation.\n",
    "    - plot augmented images for each set.\n",
    "\n",
    "* Class indices to change prediction inference in labels.\n",
    "\n",
    "* Creation of a Machine learning model and display of its summary.\n",
    "\n",
    "* Model training.\n",
    "\n",
    "* Save model.\n",
    "\n",
    "* Learning curve plot for model performance.\n",
    "    - Model A - separate plots for accuracy and loss.\n",
    "    - Model B - comprehensive model history plot.\n",
    "    - Model C - plot model history with plotly.\n",
    "\n",
    "* Model evaluation on saved file.\n",
    "    - Calculate accuracy.\n",
    "    - Plot ROC curve.\n",
    "    - Calculate classification report (Model A)\n",
    "        - Model B - classification report with macro avg and weighted avg\n",
    "        - Model C - syntetic classification report per label\n",
    "* Plot Confusion Matrix\n",
    "* Save evaluation pickle file\n",
    "* Prediction on the random image file."
   ]
  },
  {
   "cell_type": "markdown",
   "id": "b132e294",
   "metadata": {},
   "source": [
    "## Comments | Insights | Conclusions"
   ]
  },
  {
   "cell_type": "markdown",
   "id": "592f04f5",
   "metadata": {},
   "source": [
    "* The same data was plotted in different versions to accommodate potential client requests for deeper insights.\n",
    "\n",
    "* The CNN was designed to maximize accuracy while minimizing both loss and training time.\n",
    "\n",
    "* It was intentionally kept as compact as possible without compromising accuracy, while also preventing overfitting.\n",
    "\n",
    "* Further details on hyperparameter optimization and the trial-and-error phase are documented in the README.md file and in a separate PDF."
   ]
  },
  {
   "cell_type": "markdown",
   "id": "4ec02c7d",
   "metadata": {},
   "source": [
    "---"
   ]
  },
  {
   "cell_type": "markdown",
   "id": "9db95c33",
   "metadata": {},
   "source": [
    "# Import packages"
   ]
  },
  {
   "cell_type": "code",
   "execution_count": 1,
   "id": "6584c136",
   "metadata": {},
   "outputs": [
    {
     "name": "stderr",
     "output_type": "stream",
     "text": [
      "2025-10-03 18:34:39.835143: I tensorflow/core/util/port.cc:113] oneDNN custom operations are on. You may see slightly different numerical results due to floating-point round-off errors from different computation orders. To turn them off, set the environment variable `TF_ENABLE_ONEDNN_OPTS=0`.\n",
      "2025-10-03 18:34:39.877747: I tensorflow/core/platform/cpu_feature_guard.cc:210] This TensorFlow binary is optimized to use available CPU instructions in performance-critical operations.\n",
      "To enable the following instructions: AVX2 AVX512F AVX512_VNNI FMA, in other operations, rebuild TensorFlow with the appropriate compiler flags.\n"
     ]
    }
   ],
   "source": [
    "import os\n",
    "import pandas as pd\n",
    "import numpy as np\n",
    "import matplotlib.pyplot as plt \n",
    "import seaborn as sns \n",
    "import tensorflow as tf\n",
    "from matplotlib.image import imread"
   ]
  }
 ],
 "metadata": {
  "kernelspec": {
   "display_name": "3.12.1",
   "language": "python",
   "name": "python3"
  },
  "language_info": {
   "codemirror_mode": {
    "name": "ipython",
    "version": 3
   },
   "file_extension": ".py",
   "mimetype": "text/x-python",
   "name": "python",
   "nbconvert_exporter": "python",
   "pygments_lexer": "ipython3",
   "version": "3.12.1"
  }
 },
 "nbformat": 4,
 "nbformat_minor": 5
}
