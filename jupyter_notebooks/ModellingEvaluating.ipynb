{
 "cells": [
  {
   "cell_type": "markdown",
   "id": "c91044ed",
   "metadata": {},
   "source": [
    "# Modelling & Evaluating"
   ]
  },
  {
   "cell_type": "markdown",
   "id": "f87572d2",
   "metadata": {},
   "source": [
    "## Objectives"
   ]
  },
  {
   "cell_type": "markdown",
   "id": "9d2382ac",
   "metadata": {},
   "source": [
    "* Answer business requirement 2:\n",
    "    - The client is interested to tell wheterh a given leaf is covered with powdery mildew"
   ]
  },
  {
   "cell_type": "markdown",
   "id": "e35fcc6f",
   "metadata": {},
   "source": [
    "## Inputs"
   ]
  },
  {
   "cell_type": "markdown",
   "id": "d0801bf3",
   "metadata": {},
   "source": [
    "* Image shape embeddings (pickle file).\n",
    "\n",
    "* Images from the test, train, validation folders and their subfolders."
   ]
  },
  {
   "cell_type": "markdown",
   "id": "8059305a",
   "metadata": {},
   "source": [
    "    ├── inputs\n",
    "    │   └──cherryleaves_dataset \n",
    "    │      └──cherry-leaves\n",
    "    │           │\n",
    "    │           ├── test\n",
    "    │           │   ├── healthy\n",
    "    │           │   └── powdery_mildew\n",
    "    │           │\n",
    "    │           ├── train\n",
    "    │           │   ├── healthy\n",
    "    │           │   └── powdery_mildew\n",
    "    │           │\n",
    "    │           └── validation\n",
    "    │               ├── healthy\n",
    "    │               └── powdery_mildew\n",
    "    └──"
   ]
  },
  {
   "cell_type": "markdown",
   "id": "5f51063e",
   "metadata": {},
   "source": [
    "## Outputs"
   ]
  },
  {
   "cell_type": "markdown",
   "id": "c1faa17d",
   "metadata": {},
   "source": [
    "* Images distribution plot in train, validation, and test set.\n",
    "    - label distribution - bar chart.\n",
    "    - set distriburion - pie chart.\n",
    "\n",
    "* Image augmentation.\n",
    "    - plot augmented images for each set.\n",
    "\n",
    "* Class indices to change prediction inference in labels.\n",
    "\n",
    "* Creation of a Machine learning model and display of its summary.\n",
    "\n",
    "* Model training.\n",
    "\n",
    "* Save model.\n",
    "\n",
    "* Learning curve plot for model performance.\n",
    "    - Model A - separate plots for accuracy and loss.\n",
    "    - Model B - comprehensive model history plot.\n",
    "    - Model C - plot model history with plotly.\n",
    "\n",
    "* Model evaluation on saved file.\n",
    "    - Calculate accuracy.\n",
    "    - Plot ROC curve.\n",
    "    - Calculate classification report (Model A)\n",
    "        - Model B - classification report with macro avg and weighted avg\n",
    "        - Model C - syntetic classification report per label\n",
    "* Plot Confusion Matrix\n",
    "* Save evaluation pickle file\n",
    "* Prediction on the random image file."
   ]
  },
  {
   "cell_type": "markdown",
   "id": "b132e294",
   "metadata": {},
   "source": [
    "## Comments | Insights | Conclusions"
   ]
  },
  {
   "cell_type": "markdown",
   "id": "592f04f5",
   "metadata": {},
   "source": [
    "* The same data was plotted in different versions to accommodate potential client requests for deeper insights.\n",
    "\n",
    "* The CNN was designed to maximize accuracy while minimizing both loss and training time.\n",
    "\n",
    "* It was intentionally kept as compact as possible without compromising accuracy, while also preventing overfitting.\n",
    "\n",
    "* Further details on hyperparameter optimization and the trial-and-error phase are documented in the README.md file and in a separate PDF."
   ]
  },
  {
   "cell_type": "markdown",
   "id": "4ec02c7d",
   "metadata": {},
   "source": [
    "---"
   ]
  }
 ],
 "metadata": {
  "language_info": {
   "name": "python"
  }
 },
 "nbformat": 4,
 "nbformat_minor": 5
}
