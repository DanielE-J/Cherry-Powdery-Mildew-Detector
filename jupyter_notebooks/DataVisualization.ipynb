{
 "cells": [
  {
   "cell_type": "markdown",
   "id": "330a5c6b",
   "metadata": {},
   "source": [
    "# Data Visualization Notebook"
   ]
  },
  {
   "cell_type": "markdown",
   "id": "8e52af49",
   "metadata": {},
   "source": [
    "## Objectives"
   ]
  },
  {
   "cell_type": "markdown",
   "id": "3aee6351",
   "metadata": {},
   "source": [
    "* Answer business requirement no.1:\n",
    "    - The client is interested in carrying out a study that focuses on visually distinguishing between a healthy cherry leaf and one that shows signs of powdery mildew."
   ]
  },
  {
   "cell_type": "markdown",
   "id": "fd1467c7",
   "metadata": {},
   "source": [
    "## Inputs"
   ]
  },
  {
   "cell_type": "markdown",
   "id": "ba1c51b5",
   "metadata": {},
   "source": [
    "Images are taken from the test, train, validation folders and their subfolders."
   ]
  },
  {
   "cell_type": "markdown",
   "id": "6d7ba192",
   "metadata": {},
   "source": [
    "    ├── inputs\n",
    "    │   └──cherryleaves_dataset \n",
    "    │      └──cherry-leaves\n",
    "    │           │\n",
    "    │           ├── test\n",
    "    │           │   ├── healthy\n",
    "    │           │   └── powdery_mildew\n",
    "    │           │\n",
    "    │           ├── train\n",
    "    │           │   ├── healthy\n",
    "    │           │   └── powdery_mildew\n",
    "    │           │\n",
    "    │           └── validation\n",
    "    │               ├── healthy\n",
    "    │               └── powdery_mildew\n",
    "    └──"
   ]
  },
  {
   "cell_type": "markdown",
   "id": "e9fcc3ca",
   "metadata": {},
   "source": [
    "## Outputs"
   ]
  },
  {
   "cell_type": "markdown",
   "id": "42aeb1b6",
   "metadata": {},
   "source": [
    "* Compute the average image size from the training set.\n",
    "    - Since the CNN will be trained on the test set, it is essential to standardize all input images to the same size. The chosen input size will directly determine the CNN architecture.\n",
    "\n",
    "* Leverage the saved image shape embeddings (pickle file).\n",
    "    - Use these embeddings to analyze image dimensions and ensure consistency.\n",
    "\n",
    "* Visualize image characteristics by label.\n",
    "    - Plot the mean and variability of image sizes for each class label.\n",
    "\n",
    "* Highlight class-specific differences.\n",
    "    - Create plots that emphasize the contrast between healthy cherry leaves and those infected with mildew.\n",
    "\n",
    "* Address Business Requirement 1.\n",
    "    - Develop code that not only fulfills this requirement but can also be adapted to generate an image montage for display in the Streamlit dashboard."
   ]
  },
  {
   "cell_type": "markdown",
   "id": "3b4ec3da",
   "metadata": {},
   "source": [
    "## Comments | Insights | Conclusions"
   ]
  },
  {
   "cell_type": "markdown",
   "id": "cbbdc391",
   "metadata": {},
   "source": [
    "These steps are necessary to further understand and prepare the data that will be fed into the CNN. Additionally, the data has been visually arranged to meet the client’s request (Business Requirement #1)"
   ]
  },
  {
   "cell_type": "markdown",
   "id": "d9da9b27",
   "metadata": {},
   "source": [
    "---"
   ]
  }
 ],
 "metadata": {
  "language_info": {
   "name": "python"
  }
 },
 "nbformat": 4,
 "nbformat_minor": 5
}
