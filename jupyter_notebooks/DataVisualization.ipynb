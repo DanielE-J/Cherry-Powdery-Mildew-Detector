{
 "cells": [
  {
   "cell_type": "markdown",
   "id": "330a5c6b",
   "metadata": {},
   "source": [
    "# Data Visualization Notebook"
   ]
  },
  {
   "cell_type": "markdown",
   "id": "8e52af49",
   "metadata": {},
   "source": [
    "## Objectives"
   ]
  },
  {
   "cell_type": "markdown",
   "id": "3aee6351",
   "metadata": {},
   "source": [
    "* Answer business requirement no.1:\n",
    "    - The client is interested in carrying out a study that focuses on visually distinguishing between a healthy cherry leaf and one that shows signs of powdery mildew."
   ]
  },
  {
   "cell_type": "markdown",
   "id": "fd1467c7",
   "metadata": {},
   "source": [
    "## Inputs"
   ]
  },
  {
   "cell_type": "markdown",
   "id": "ba1c51b5",
   "metadata": {},
   "source": [
    "Images are taken from the test, train, validation folders and their subfolders."
   ]
  },
  {
   "cell_type": "markdown",
   "id": "6d7ba192",
   "metadata": {},
   "source": [
    "    ├── inputs\n",
    "    │   └──cherryleaves_dataset \n",
    "    │      └──cherry-leaves\n",
    "    │           │\n",
    "    │           ├── test\n",
    "    │           │   ├── healthy\n",
    "    │           │   └── powdery_mildew\n",
    "    │           │\n",
    "    │           ├── train\n",
    "    │           │   ├── healthy\n",
    "    │           │   └── powdery_mildew\n",
    "    │           │\n",
    "    │           └── validation\n",
    "    │               ├── healthy\n",
    "    │               └── powdery_mildew\n",
    "    └──"
   ]
  },
  {
   "cell_type": "markdown",
   "id": "e9fcc3ca",
   "metadata": {},
   "source": [
    "## Outputs"
   ]
  },
  {
   "cell_type": "markdown",
   "id": "42aeb1b6",
   "metadata": {},
   "source": [
    "* Compute the average image size from the training set.\n",
    "    - Since the CNN will be trained on the test set, it is essential to standardize all input images to the same size. The chosen input size will directly determine the CNN architecture.\n",
    "\n",
    "* Leverage the saved image shape embeddings (pickle file).\n",
    "    - Use these embeddings to analyze image dimensions and ensure consistency.\n",
    "\n",
    "* Visualize image characteristics by label.\n",
    "    - Plot the mean and variability of image sizes for each class label.\n",
    "\n",
    "* Highlight class-specific differences.\n",
    "    - Create plots that emphasize the contrast between healthy cherry leaves and those infected with mildew.\n",
    "\n",
    "* Address Business Requirement 1.\n",
    "    - Develop code that not only fulfills this requirement but can also be adapted to generate an image montage for display in the Streamlit dashboard."
   ]
  },
  {
   "cell_type": "markdown",
   "id": "3b4ec3da",
   "metadata": {},
   "source": [
    "## Comments | Insights | Conclusions"
   ]
  },
  {
   "cell_type": "markdown",
   "id": "cbbdc391",
   "metadata": {},
   "source": [
    "These steps are necessary to further understand and prepare the data that will be fed into the CNN. Additionally, the data has been visually arranged to meet the client’s request (Business Requirement #1)"
   ]
  },
  {
   "cell_type": "markdown",
   "id": "d9da9b27",
   "metadata": {},
   "source": [
    "---"
   ]
  },
  {
   "cell_type": "markdown",
   "id": "56c44163",
   "metadata": {},
   "source": [
    "# Import libraries"
   ]
  },
  {
   "cell_type": "code",
   "execution_count": 1,
   "id": "b298c761",
   "metadata": {},
   "outputs": [],
   "source": [
    "import os\n",
    "import pandas as pd\n",
    "import numpy as np\n",
    "import matplotlib.pyplot as plt \n",
    "import seaborn as sns \n",
    "import joblib\n",
    "sns.set_style('white')\n",
    "from matplotlib.image import imread"
   ]
  },
  {
   "cell_type": "markdown",
   "id": "3da08924",
   "metadata": {},
   "source": [
    "# Set working directory"
   ]
  },
  {
   "cell_type": "code",
   "execution_count": 2,
   "id": "9f671b2f",
   "metadata": {},
   "outputs": [],
   "source": [
    "cwd= os.getcwd()"
   ]
  },
  {
   "cell_type": "code",
   "execution_count": 4,
   "id": "6025a44c",
   "metadata": {},
   "outputs": [
    {
     "name": "stdout",
     "output_type": "stream",
     "text": [
      "You set a new current directory\n"
     ]
    }
   ],
   "source": [
    "os.chdir('/workspaces/Cherry-Powdery-Mildew-Detector')\n",
    "print(\"You set a new current directory\")"
   ]
  },
  {
   "cell_type": "code",
   "execution_count": 5,
   "id": "a0e84f05",
   "metadata": {},
   "outputs": [
    {
     "data": {
      "text/plain": [
       "'/workspaces/Cherry-Powdery-Mildew-Detector'"
      ]
     },
     "execution_count": 5,
     "metadata": {},
     "output_type": "execute_result"
    }
   ],
   "source": [
    "work_dir = os.getcwd()\n",
    "work_dir"
   ]
  },
  {
   "cell_type": "markdown",
   "id": "65cc83d1",
   "metadata": {},
   "source": [
    "# Set input directories"
   ]
  },
  {
   "cell_type": "markdown",
   "id": "28dfcaa0",
   "metadata": {},
   "source": [
    "Set train, validation and test paths"
   ]
  },
  {
   "cell_type": "code",
   "execution_count": 6,
   "id": "983df8fa",
   "metadata": {},
   "outputs": [],
   "source": [
    "my_data_dir = 'inputs/cherryleaves_dataset/cherry-leaves'\n",
    "train_path = my_data_dir + '/train' \n",
    "val_path = my_data_dir + '/validation'\n",
    "test_path = my_data_dir + '/test'"
   ]
  },
  {
   "cell_type": "markdown",
   "id": "27643bdf",
   "metadata": {},
   "source": [
    "# Set output directory"
   ]
  },
  {
   "cell_type": "code",
   "execution_count": 7,
   "id": "af6080f9",
   "metadata": {},
   "outputs": [],
   "source": [
    "version = 'v1'\n",
    "file_path = f'outputs/{version}'\n",
    "\n",
    "if 'outputs' in os.listdir(work_dir) and version in os.listdir(work_dir + '/outputs'):\n",
    "    print('Old version is already available create a new version.')\n",
    "    pass\n",
    "else:\n",
    "    os.makedirs(name=file_path)"
   ]
  },
  {
   "cell_type": "markdown",
   "id": "1fd83f94",
   "metadata": {},
   "source": [
    "# Set label names"
   ]
  },
  {
   "cell_type": "code",
   "execution_count": 8,
   "id": "51822aa8",
   "metadata": {},
   "outputs": [
    {
     "name": "stdout",
     "output_type": "stream",
     "text": [
      "Label for the images are ['powdery_mildew', 'healthy']\n"
     ]
    }
   ],
   "source": [
    "labels = os.listdir(train_path)\n",
    "print('Label for the images are', labels)"
   ]
  }
 ],
 "metadata": {
  "kernelspec": {
   "display_name": "3.12.1",
   "language": "python",
   "name": "python3"
  },
  "language_info": {
   "codemirror_mode": {
    "name": "ipython",
    "version": 3
   },
   "file_extension": ".py",
   "mimetype": "text/x-python",
   "name": "python",
   "nbconvert_exporter": "python",
   "pygments_lexer": "ipython3",
   "version": "3.12.1"
  }
 },
 "nbformat": 4,
 "nbformat_minor": 5
}
