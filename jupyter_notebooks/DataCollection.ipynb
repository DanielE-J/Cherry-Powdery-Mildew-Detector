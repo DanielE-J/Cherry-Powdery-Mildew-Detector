{
  "cells": [
    {
      "cell_type": "markdown",
      "metadata": {},
      "source": [
        "# Data Collection"
      ]
    },
    {
      "cell_type": "markdown",
      "metadata": {},
      "source": [
        "## Objectives"
      ]
    },
    {
      "cell_type": "markdown",
      "metadata": {},
      "source": [
        "* Import packages\n",
        "\n",
        "* Set working directory\n",
        "\n",
        "* Fetch data from Kaggle\n",
        "\n",
        "* Prepare data\n",
        "\n",
        "* Clean data\n",
        "\n",
        "* Split data"
      ]
    },
    {
      "cell_type": "markdown",
      "metadata": {},
      "source": [
        "## Inputs"
      ]
    },
    {
      "cell_type": "markdown",
      "metadata": {},
      "source": [
        "Kaggle JSON file - authentication token"
      ]
    },
    {
      "cell_type": "markdown",
      "metadata": {},
      "source": [
        "# Outputs"
      ]
    },
    {
      "cell_type": "markdown",
      "metadata": {},
      "source": [
        "When the dataset is downloaded from Kaggle, it will have this structure:"
      ]
    },
    {
      "cell_type": "markdown",
      "metadata": {},
      "source": [
        "    ├── inputs\n",
        "    │   └──cherryleaves_dataset \n",
        "    │      └──cherry-leaves\n",
        "    │           │\n",
        "    │           ├── test\n",
        "    │           │   ├── healthy\n",
        "    │           │   └── powdery_mildew\n",
        "    │           │\n",
        "    │           ├── train\n",
        "    │           │   ├── healthy\n",
        "    │           │   └── powdery_mildew\n",
        "    │           │\n",
        "    │           └── validation\n",
        "    │               ├── healthy\n",
        "    │               └── powdery_mildew\n",
        "    └──"
      ]
    },
    {
      "cell_type": "markdown",
      "metadata": {},
      "source": [
        "# Comments | Insights | Conclusions"
      ]
    },
    {
      "cell_type": "markdown",
      "metadata": {},
      "source": [
        "These steps are necessary to fetch the data, clean it and divide it in subsets for the purposes of machine learning. Next step will be Data Visualization to understand the data and discover patterns."
      ]
    },
    {
      "cell_type": "markdown",
      "metadata": {},
      "source": [
        "---"
      ]
    }
  ],
  "metadata": {
    "accelerator": "GPU",
    "colab": {
      "name": "Data Practitioner Jupyter Notebook.ipynb",
      "provenance": [],
      "toc_visible": true
    },
    "interpreter": {
      "hash": "8b8334dab9339717f727a1deaf837b322d7a41c20d15cc86be99a8e69ceec8ce"
    },
    "kernelspec": {
      "display_name": "Python 3.8.12 64-bit ('3.8.12': pyenv)",
      "name": "python3"
    },
    "language_info": {
      "codemirror_mode": {
        "name": "ipython",
        "version": 3
      },
      "file_extension": ".py",
      "mimetype": "text/x-python",
      "name": "python",
      "nbconvert_exporter": "python",
      "pygments_lexer": "ipython3",
      "version": "3.8.12"
    },
    "orig_nbformat": 2
  },
  "nbformat": 4,
  "nbformat_minor": 2
}
